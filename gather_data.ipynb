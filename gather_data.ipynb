{
 "cells": [
  {
   "cell_type": "code",
   "execution_count": 1,
   "metadata": {},
   "outputs": [],
   "source": [
    "### automating pull from git\n",
    "import git\n",
    "import os\n",
    "from glob import glob\n",
    "import pandas as pd\n",
    "import numpy as np\n",
    "%matplotlib inline\n",
    "from matplotlib import pyplot as plt\n",
    "import seaborn as sns\n",
    "import shutil"
   ]
  },
  {
   "cell_type": "markdown",
   "metadata": {},
   "source": [
    "### Data Source: https://github.com/CSSEGISandData/COVID-19\n",
    "\n",
    "John Hopkins COVID Research github repo"
   ]
  },
  {
   "cell_type": "code",
   "execution_count": 2,
   "metadata": {},
   "outputs": [
    {
     "name": "stdout",
     "output_type": "stream",
     "text": [
      "Updating 5acaa8f8..8ad492e9\n",
      "Fast-forward\n",
      " README.md                                          |    2 +\n",
      " csse_covid_19_data/README.md                       |   72 +-\n",
      " csse_covid_19_data/UID_ISO_FIPS_LookUp_Table.csv   |   25 +-\n",
      " .../csse_covid_19_daily_reports/03-23-2020.csv     |    4 +-\n",
      " .../csse_covid_19_daily_reports/03-24-2020.csv     |    3 +-\n",
      " .../csse_covid_19_daily_reports/03-25-2020.csv     |    2 +-\n",
      " .../csse_covid_19_daily_reports/03-26-2020.csv     |    2 +-\n",
      " .../csse_covid_19_daily_reports/03-27-2020.csv     |    2 +-\n",
      " .../csse_covid_19_daily_reports/03-28-2020.csv     | 6862 ++++++++++----------\n",
      " .../csse_covid_19_daily_reports/03-29-2020.csv     |    4 +-\n",
      " .../csse_covid_19_daily_reports/03-30-2020.csv     |    6 +-\n",
      " .../csse_covid_19_daily_reports/03-31-2020.csv     |    2 +-\n",
      " .../csse_covid_19_daily_reports/04-01-2020.csv     |    8 +-\n",
      " .../csse_covid_19_daily_reports/04-02-2020.csv     | 5140 +++++++--------\n",
      " .../csse_covid_19_daily_reports/04-03-2020.csv     |    3 +-\n",
      " .../csse_covid_19_daily_reports/04-04-2020.csv     | 5359 ++++++++-------\n",
      " .../csse_covid_19_daily_reports/04-05-2020.csv     |    3 +-\n",
      " .../csse_covid_19_daily_reports/04-06-2020.csv     |    3 +-\n",
      " .../csse_covid_19_daily_reports/04-07-2020.csv     |    3 +-\n",
      " .../csse_covid_19_daily_reports/04-08-2020.csv     |    3 +-\n",
      " .../csse_covid_19_daily_reports/04-09-2020.csv     | 2911 +++++++++\n",
      " .../csse_covid_19_daily_reports/04-10-2020.csv     | 2942 +++++++++\n",
      " .../csse_covid_19_daily_reports/04-11-2020.csv     | 2966 +++++++++\n",
      " .../csse_covid_19_daily_reports/04-12-2020.csv     | 2989 +++++++++\n",
      " .../csse_covid_19_daily_reports/04-13-2020.csv     | 3002 +++++++++\n",
      " .../csse_covid_19_daily_reports/04-14-2020.csv     | 3014 +++++++++\n",
      " .../csse_covid_19_daily_reports/04-15-2020.csv     | 3027 +++++++++\n",
      " .../csse_covid_19_daily_reports/04-16-2020.csv     | 3042 +++++++++\n",
      " .../csse_covid_19_daily_reports/04-17-2020.csv     | 3046 +++++++++\n",
      " .../csse_covid_19_daily_reports/04-18-2020.csv     | 3054 +++++++++\n",
      " .../csse_covid_19_daily_reports/04-19-2020.csv     | 3073 +++++++++\n",
      " .../csse_covid_19_daily_reports/04-20-2020.csv     | 3082 +++++++++\n",
      " .../csse_covid_19_daily_reports/04-21-2020.csv     | 3092 +++++++++\n",
      " .../csse_covid_19_daily_reports/04-22-2020.csv     | 3098 +++++++++\n",
      " .../csse_covid_19_daily_reports_us/04-12-2020.csv  |   60 +\n",
      " .../csse_covid_19_daily_reports_us/04-13-2020.csv  |   60 +\n",
      " .../csse_covid_19_daily_reports_us/04-14-2020.csv  |   60 +\n",
      " .../csse_covid_19_daily_reports_us/04-15-2020.csv  |   60 +\n",
      " .../csse_covid_19_daily_reports_us/04-16-2020.csv  |   60 +\n",
      " .../csse_covid_19_daily_reports_us/04-17-2020.csv  |   60 +\n",
      " .../csse_covid_19_daily_reports_us/04-18-2020.csv  |  141 +\n",
      " .../csse_covid_19_daily_reports_us/04-19-2020.csv  |  141 +\n",
      " .../csse_covid_19_daily_reports_us/04-20-2020.csv  |   60 +\n",
      " .../csse_covid_19_daily_reports_us/04-21-2020.csv  |   60 +\n",
      " .../csse_covid_19_daily_reports_us/04-22-2020.csv  |   60 +\n",
      " .../csse_covid_19_daily_reports_us/README.md       |    0\n",
      " .../csse_covid_19_time_series/Errata.csv           |   94 +\n",
      " .../csse_covid_19_time_series/README.md            |   23 +-\n",
      " .../time_series_covid19_confirmed_US.csv           | 6516 +++++++++----------\n",
      " .../time_series_covid19_confirmed_global.csv       |  529 +-\n",
      " .../time_series_covid19_deaths_US.csv              | 6516 +++++++++----------\n",
      " .../time_series_covid19_deaths_global.csv          |  529 +-\n",
      " .../time_series_covid19_recovered_global.csv       |  501 +-\n",
      " 53 files changed, 59352 insertions(+), 16024 deletions(-)\n",
      " create mode 100644 csse_covid_19_data/csse_covid_19_daily_reports/04-09-2020.csv\n",
      " create mode 100644 csse_covid_19_data/csse_covid_19_daily_reports/04-10-2020.csv\n",
      " create mode 100644 csse_covid_19_data/csse_covid_19_daily_reports/04-11-2020.csv\n",
      " create mode 100644 csse_covid_19_data/csse_covid_19_daily_reports/04-12-2020.csv\n",
      " create mode 100644 csse_covid_19_data/csse_covid_19_daily_reports/04-13-2020.csv\n",
      " create mode 100644 csse_covid_19_data/csse_covid_19_daily_reports/04-14-2020.csv\n",
      " create mode 100644 csse_covid_19_data/csse_covid_19_daily_reports/04-15-2020.csv\n",
      " create mode 100644 csse_covid_19_data/csse_covid_19_daily_reports/04-16-2020.csv\n",
      " create mode 100644 csse_covid_19_data/csse_covid_19_daily_reports/04-17-2020.csv\n",
      " create mode 100644 csse_covid_19_data/csse_covid_19_daily_reports/04-18-2020.csv\n",
      " create mode 100644 csse_covid_19_data/csse_covid_19_daily_reports/04-19-2020.csv\n",
      " create mode 100644 csse_covid_19_data/csse_covid_19_daily_reports/04-20-2020.csv\n",
      " create mode 100644 csse_covid_19_data/csse_covid_19_daily_reports/04-21-2020.csv\n",
      " create mode 100644 csse_covid_19_data/csse_covid_19_daily_reports/04-22-2020.csv\n",
      " create mode 100644 csse_covid_19_data/csse_covid_19_daily_reports_us/04-12-2020.csv\n",
      " create mode 100644 csse_covid_19_data/csse_covid_19_daily_reports_us/04-13-2020.csv\n",
      " create mode 100644 csse_covid_19_data/csse_covid_19_daily_reports_us/04-14-2020.csv\n",
      " create mode 100644 csse_covid_19_data/csse_covid_19_daily_reports_us/04-15-2020.csv\n",
      " create mode 100644 csse_covid_19_data/csse_covid_19_daily_reports_us/04-16-2020.csv\n",
      " create mode 100644 csse_covid_19_data/csse_covid_19_daily_reports_us/04-17-2020.csv\n",
      " create mode 100644 csse_covid_19_data/csse_covid_19_daily_reports_us/04-18-2020.csv\n",
      " create mode 100644 csse_covid_19_data/csse_covid_19_daily_reports_us/04-19-2020.csv\n",
      " create mode 100644 csse_covid_19_data/csse_covid_19_daily_reports_us/04-20-2020.csv\n",
      " create mode 100644 csse_covid_19_data/csse_covid_19_daily_reports_us/04-21-2020.csv\n",
      " create mode 100644 csse_covid_19_data/csse_covid_19_daily_reports_us/04-22-2020.csv\n",
      " create mode 100644 csse_covid_19_data/csse_covid_19_daily_reports_us/README.md\n",
      " create mode 100644 csse_covid_19_data/csse_covid_19_time_series/Errata.csv\n"
     ]
    }
   ],
   "source": [
    "def gitpull(git_dir, clone_dir, git_repo):\n",
    "    repo = git_dir.split('/')[-1]\n",
    "    if repo not in os.listdir(clone_dir):\n",
    "        clone_path = os.path.abspath(clone_dir)\n",
    "        print (f\"Cloning {git_repo} repo\")\n",
    "        print (f\"at the path {clone_path}\")\n",
    "        print(git.Git(clone_path).clone(git_repo))\n",
    "    else:\n",
    "        g = git.cmd.Git(git_dir)\n",
    "        print (g.pull())\n",
    "git_dir = '../COVID-19'\n",
    "git_repo = 'https://github.com/CSSEGISandData/COVID-19.git'\n",
    "clone_dir = '../'\n",
    "\n",
    "gitpull(git_dir, clone_dir, git_repo)"
   ]
  },
  {
   "cell_type": "markdown",
   "metadata": {},
   "source": [
    "### All data files"
   ]
  },
  {
   "cell_type": "code",
   "execution_count": 3,
   "metadata": {},
   "outputs": [],
   "source": [
    "data_path = '../COVID-19/csse_covid_19_data/csse_covid_19_daily_reports/*.csv'\n",
    "\n",
    "all_paths = glob(data_path)"
   ]
  },
  {
   "cell_type": "code",
   "execution_count": 4,
   "metadata": {},
   "outputs": [],
   "source": [
    "li = []\n",
    "\n",
    "for filename in all_paths:\n",
    "    df = pd.read_csv(filename, index_col=None, header=0)\n",
    "    li.append(df)\n",
    "\n",
    "frame = pd.concat(li, axis=0, ignore_index=True)"
   ]
  },
  {
   "cell_type": "code",
   "execution_count": 5,
   "metadata": {},
   "outputs": [],
   "source": [
    "col_pairs = [\n",
    "    ('Province/State', 'Province_State'),\n",
    "    ('Country/Region', 'Country_Region'), \n",
    "    ('Last Update', 'Last_Update'),\n",
    "    ('Latitude', 'Lat'),\n",
    "    ('Longitude', 'Long_')\n",
    "]"
   ]
  },
  {
   "cell_type": "markdown",
   "metadata": {},
   "source": [
    "### Data Cleaning"
   ]
  },
  {
   "cell_type": "code",
   "execution_count": 6,
   "metadata": {},
   "outputs": [],
   "source": [
    "### correct the columns in data frame\n",
    "\n",
    "def replace_nan_col_a(df, col_a, col_b):\n",
    "    df[col_a] = np.where(pd.isnull(df[col_a]), df[col_b], df[col_a])\n",
    "    df.drop(col_b, axis= 1, inplace= True)"
   ]
  },
  {
   "cell_type": "code",
   "execution_count": 7,
   "metadata": {},
   "outputs": [],
   "source": [
    "for col_pair in col_pairs:\n",
    "    replace_nan_col_a(frame, *col_pair)"
   ]
  },
  {
   "cell_type": "markdown",
   "metadata": {},
   "source": [
    "### Data Types"
   ]
  },
  {
   "cell_type": "code",
   "execution_count": 8,
   "metadata": {},
   "outputs": [
    {
     "name": "stdout",
     "output_type": "stream",
     "text": [
      "<class 'pandas.core.frame.DataFrame'>\n",
      "RangeIndex: 104857 entries, 0 to 104856\n",
      "Data columns (total 12 columns):\n",
      " #   Column          Non-Null Count   Dtype  \n",
      "---  ------          --------------   -----  \n",
      " 0   Province/State  95942 non-null   object \n",
      " 1   Country/Region  104857 non-null  object \n",
      " 2   Last Update     104857 non-null  object \n",
      " 3   Confirmed       104838 non-null  float64\n",
      " 4   Deaths          104416 non-null  float64\n",
      " 5   Recovered       104469 non-null  float64\n",
      " 6   Latitude        100811 non-null  float64\n",
      " 7   Longitude       100811 non-null  float64\n",
      " 8   FIPS            88344 non-null   float64\n",
      " 9   Admin2          88802 non-null   object \n",
      " 10  Active          97240 non-null   float64\n",
      " 11  Combined_Key    97240 non-null   object \n",
      "dtypes: float64(7), object(5)\n",
      "memory usage: 9.6+ MB\n"
     ]
    }
   ],
   "source": [
    "frame.info()"
   ]
  },
  {
   "cell_type": "code",
   "execution_count": 9,
   "metadata": {},
   "outputs": [],
   "source": [
    "frame['Last Update'] = pd.to_datetime(frame['Last Update'])"
   ]
  },
  {
   "cell_type": "code",
   "execution_count": 10,
   "metadata": {},
   "outputs": [
    {
     "name": "stdout",
     "output_type": "stream",
     "text": [
      "<class 'pandas.core.frame.DataFrame'>\n",
      "RangeIndex: 104857 entries, 0 to 104856\n",
      "Data columns (total 12 columns):\n",
      " #   Column          Non-Null Count   Dtype         \n",
      "---  ------          --------------   -----         \n",
      " 0   Province/State  95942 non-null   object        \n",
      " 1   Country/Region  104857 non-null  object        \n",
      " 2   Last Update     104857 non-null  datetime64[ns]\n",
      " 3   Confirmed       104838 non-null  float64       \n",
      " 4   Deaths          104416 non-null  float64       \n",
      " 5   Recovered       104469 non-null  float64       \n",
      " 6   Latitude        100811 non-null  float64       \n",
      " 7   Longitude       100811 non-null  float64       \n",
      " 8   FIPS            88344 non-null   float64       \n",
      " 9   Admin2          88802 non-null   object        \n",
      " 10  Active          97240 non-null   float64       \n",
      " 11  Combined_Key    97240 non-null   object        \n",
      "dtypes: datetime64[ns](1), float64(7), object(4)\n",
      "memory usage: 9.6+ MB\n"
     ]
    }
   ],
   "source": [
    "frame.info()"
   ]
  },
  {
   "cell_type": "markdown",
   "metadata": {},
   "source": [
    "### Duplicates"
   ]
  },
  {
   "cell_type": "code",
   "execution_count": 11,
   "metadata": {},
   "outputs": [],
   "source": [
    "### datetime, country, province keeping last as that has longitude and latitude\n",
    "df = frame.drop_duplicates(['Country/Region', 'Province/State', 'Last Update', 'Admin2'], keep='last')"
   ]
  },
  {
   "cell_type": "code",
   "execution_count": 12,
   "metadata": {},
   "outputs": [],
   "source": [
    "if 'data' not in os.listdir('./'):\n",
    "    os.mkdir('data')\n",
    "    \n",
    "if 'master_data' not in os.listdir('data/'):\n",
    "    os.mkdir('data/master_data')\n",
    "    \n",
    "df.to_csv('data/master_data/john_hopkins_research.csv')"
   ]
  },
  {
   "cell_type": "markdown",
   "metadata": {},
   "source": [
    "## Data Source: https://github.com/nychealth/coronavirus-data\n",
    "\n",
    "NYC health Coronavirus"
   ]
  },
  {
   "cell_type": "code",
   "execution_count": 13,
   "metadata": {},
   "outputs": [
    {
     "name": "stdout",
     "output_type": "stream",
     "text": [
      "Updating e19db28..9147df0\n",
      "Fast-forward\n",
      " README.md                  |  13 +-\n",
      " boro.csv                   |  12 +-\n",
      " by-age.csv                 |  12 +-\n",
      " by-sex.csv                 |   6 +-\n",
      " case-hosp-death.csv        |  88 ++++++-----\n",
      " probable-confirmed-dod.csv |  42 ++++++\n",
      " summary.csv                |   9 +-\n",
      " tests-by-zcta.csv          | 357 ++++++++++++++++++++++-----------------------\n",
      " 8 files changed, 299 insertions(+), 240 deletions(-)\n",
      " mode change 100644 => 100755 README.md\n",
      " create mode 100644 probable-confirmed-dod.csv\n"
     ]
    }
   ],
   "source": [
    "git_dir = '../coronavirus-data'\n",
    "git_repo = 'https://github.com/nychealth/coronavirus-data.git'\n",
    "clone_dir = '../'\n",
    "\n",
    "gitpull(git_dir, clone_dir, git_repo)"
   ]
  },
  {
   "cell_type": "markdown",
   "metadata": {},
   "source": [
    "### list all the files in the dataset"
   ]
  },
  {
   "cell_type": "code",
   "execution_count": 14,
   "metadata": {},
   "outputs": [
    {
     "data": {
      "text/plain": [
       "['.git',\n",
       " 'boro.csv',\n",
       " 'by-age.csv',\n",
       " 'by-sex.csv',\n",
       " 'case-hosp-death.csv',\n",
       " 'probable-confirmed-dod.csv',\n",
       " 'README.md',\n",
       " 'summary.csv',\n",
       " 'tests-by-zcta.csv']"
      ]
     },
     "execution_count": 14,
     "metadata": {},
     "output_type": "execute_result"
    }
   ],
   "source": [
    "os.listdir(git_dir)"
   ]
  },
  {
   "cell_type": "code",
   "execution_count": 15,
   "metadata": {},
   "outputs": [],
   "source": [
    "### create new_york directory in master data\n",
    "if 'new_york' not in os.listdir('data/master_data'):\n",
    "    os.mkdir('7/master_data/new_york')"
   ]
  },
  {
   "cell_type": "code",
   "execution_count": 16,
   "metadata": {},
   "outputs": [],
   "source": [
    "all_csvs = glob(git_dir + '/*.csv')\n",
    "dest_dir = 'data/master_data/new_york/'\n",
    "for f in all_csvs:\n",
    "    if '\\\\' in f:\n",
    "        file_name = f.split('\\\\')[-1]\n",
    "    else:\n",
    "        file_name = f.split('/')[-1]\n",
    "    file_path = dest_dir + file_name\n",
    "    shutil.copyfile(f, file_path)"
   ]
  },
  {
   "cell_type": "markdown",
   "metadata": {},
   "source": [
    "### Country Level COVID Data"
   ]
  },
  {
   "cell_type": "code",
   "execution_count": 19,
   "metadata": {},
   "outputs": [
    {
     "name": "stdout",
     "output_type": "stream",
     "text": [
      "Cloning https://github.com/owid/covid-19-data.git repo\n",
      "at the path C:\\Users\\sahil\\Workspace\\Columbia\\Spring 2020\\Courses\\Business Analytics\\Project\n",
      "\n"
     ]
    }
   ],
   "source": [
    "git_dir = '../covid-19-data'\n",
    "git_repo = 'https://github.com/owid/covid-19-data.git'\n",
    "clone_dir = '../'\n",
    "\n",
    "gitpull(git_dir, clone_dir, git_repo)"
   ]
  },
  {
   "cell_type": "code",
   "execution_count": 20,
   "metadata": {},
   "outputs": [],
   "source": [
    "if 'country_level' not in os.listdir('data/master_data/'):\n",
    "    os.mkdir('data/master_data/country_level')"
   ]
  },
  {
   "cell_type": "code",
   "execution_count": null,
   "metadata": {},
   "outputs": [],
   "source": [
    "for f in glob('../covid-19-data/public/data/ecdc/*.csv'):\n",
    "    if '\\\\' in f:\n",
    "        file_name = f.split('\\\\')[-1]\n",
    "    else:\n",
    "        file_name = f.split('/')[-1]\n",
    "    file_name = 'data/master_data/country_level/' + file_name\n",
    "    shutil.copyfile(f, file_name)"
   ]
  }
 ],
 "metadata": {
  "kernelspec": {
   "display_name": "Python 3",
   "language": "python",
   "name": "python3"
  },
  "language_info": {
   "codemirror_mode": {
    "name": "ipython",
    "version": 3
   },
   "file_extension": ".py",
   "mimetype": "text/x-python",
   "name": "python",
   "nbconvert_exporter": "python",
   "pygments_lexer": "ipython3",
   "version": "3.7.3"
  }
 },
 "nbformat": 4,
 "nbformat_minor": 4
}
