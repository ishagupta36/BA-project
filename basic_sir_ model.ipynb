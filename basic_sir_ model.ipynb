{
 "cells": [
  {
   "cell_type": "markdown",
   "metadata": {},
   "source": [
    "## Imports"
   ]
  },
  {
   "cell_type": "code",
   "execution_count": 5,
   "metadata": {},
   "outputs": [],
   "source": [
    "from scipy.integrate import odeint\n",
    "import numpy as np\n",
    "import pandas as pd\n",
    "import matplotlib.pyplot as plt\n",
    "%matplotlib inline \n",
    "import plotly.graph_objects as go\n",
    "import plotly.figure_factory as ff\n",
    "import plotly.express as px\n",
    "from ipywidgets import widgets"
   ]
  },
  {
   "cell_type": "markdown",
   "metadata": {},
   "source": [
    "## Constants"
   ]
  },
  {
   "cell_type": "code",
   "execution_count": 7,
   "metadata": {},
   "outputs": [],
   "source": [
    "N = 1000\n",
    "beta = 1.0\n",
    "D = 4.0 # infections lasts four days\n",
    "gamma = 1.0 / D\n",
    "delta = 1.0 / 3.0  # incubation period of three days\n",
    "\n",
    "S0 = 999\n",
    "E0 = 0\n",
    "I0, R0 = N - S0, 0  # initial conditions: one infected, rest susceptible\n",
    "y0= S0, E0, I0, R0"
   ]
  },
  {
   "cell_type": "markdown",
   "metadata": {},
   "source": [
    "## Model"
   ]
  },
  {
   "cell_type": "code",
   "execution_count": 8,
   "metadata": {},
   "outputs": [],
   "source": [
    "def deriv(y,t,N,beta,gamma,delta):\n",
    "    S,E,I,R = y\n",
    "    dsdt = -beta * I * S / N\n",
    "    dedt = beta * I * S / N - delta * E\n",
    "    didt = delta * E - gamma * I\n",
    "    drdt = gamma * I\n",
    "    return dsdt, dedt, didt, drdt"
   ]
  },
  {
   "cell_type": "markdown",
   "metadata": {},
   "source": [
    "## Plot"
   ]
  },
  {
   "cell_type": "code",
   "execution_count": 9,
   "metadata": {},
   "outputs": [
    {
     "data": {
      "application/vnd.jupyter.widget-view+json": {
       "model_id": "7e7d5e8f18c34e1ba3ce23664dccba05",
       "version_major": 2,
       "version_minor": 0
      },
      "text/plain": [
       "interactive(children=(FloatSlider(value=2.0, continuous_update=False, description='Beta', max=3.0, step=0.2), …"
      ]
     },
     "metadata": {},
     "output_type": "display_data"
    }
   ],
   "source": [
    "def plot_pmf(beta,gamma,delta):\n",
    "    #plot the theoretical Poisson distribution given a lambda\n",
    "    \n",
    "    t = np.linspace(0,100,100)\n",
    "    ret = odeint(deriv, y0, t, args = (N, beta, gamma, delta))\n",
    "    S, E, I, R = ret.T\n",
    "    R_t = beta * S / (S + I + E + R)\n",
    "\n",
    "\n",
    "    fig = go.Figure()\n",
    "    \n",
    "    fig.add_trace(go.Scatter(x=t, y=S,\\\n",
    "                             mode='lines', name='Susceptible',\n",
    "                            line=dict(color='blue', width=2)))\n",
    "    fig.add_trace(go.Scatter(x=t, y=E,\\\n",
    "                             mode='lines', name='Exposed',\n",
    "                            line=dict(color='pink', width=2)))\n",
    "    fig.add_trace(go.Scatter(x=t, y=R,\\\n",
    "                             mode='lines', name='Recovered',\n",
    "                            line=dict(color='green', width=2)))\n",
    "    fig.add_trace(go.Scatter(x=t, y=I,\\\n",
    "                             mode='lines', name='Infected',\n",
    "                            line=dict(color='darkred', width=2))) \n",
    "    \n",
    "\n",
    "    fig.update_layout(title='SIR-Model',\n",
    "                       xaxis_title='Time(days)',\n",
    "                       yaxis_title='Cases',\n",
    "                     title_x=0.5,\n",
    "                      width=800,\n",
    "                      height=600)\n",
    "\n",
    "    fig.show()\n",
    "    \n",
    "    return fig\n",
    "\n",
    "beta = widgets.FloatSlider(\n",
    "        value=2.0,\n",
    "        min=0.0,\n",
    "        max=3.0,\n",
    "        step=0.2,\n",
    "        description='Beta',\n",
    "        continuous_update=False\n",
    "    )\n",
    "\n",
    "gamma = widgets.FloatSlider(\n",
    "        value=1.0,\n",
    "        min=0.0,\n",
    "        max=2.0,\n",
    "        step=0.2,\n",
    "        description='Gamma',\n",
    "        continuous_update=False\n",
    "    )\n",
    "\n",
    "delta = widgets.FloatSlider(\n",
    "        value=1.0,\n",
    "        min=0.0,\n",
    "        max=5.0,\n",
    "        step=0.2,\n",
    "        description='Delta',\n",
    "        continuous_update=False\n",
    "    )\n",
    "\n",
    "# Interactive plot\n",
    "widgets.interactive(plot_pmf,beta=beta,gamma=gamma,delta=delta)"
   ]
  }
 ],
 "metadata": {
  "kernelspec": {
   "display_name": "Python 3",
   "language": "python",
   "name": "python3"
  },
  "language_info": {
   "codemirror_mode": {
    "name": "ipython",
    "version": 3
   },
   "file_extension": ".py",
   "mimetype": "text/x-python",
   "name": "python",
   "nbconvert_exporter": "python",
   "pygments_lexer": "ipython3",
   "version": "3.7.3"
  }
 },
 "nbformat": 4,
 "nbformat_minor": 4
}
