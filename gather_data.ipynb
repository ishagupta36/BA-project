{
 "cells": [
  {
   "cell_type": "code",
   "execution_count": 53,
   "metadata": {},
   "outputs": [],
   "source": [
    "### automating pull from git\n",
    "import git\n",
    "import os\n",
    "from glob import glob\n",
    "import pandas as pd\n",
    "import numpy as np\n",
    "%matplotlib inline\n",
    "from matplotlib import pyplot as plt\n",
    "import seaborn as sns"
   ]
  },
  {
   "cell_type": "code",
   "execution_count": 123,
   "metadata": {},
   "outputs": [
    {
     "name": "stdout",
     "output_type": "stream",
     "text": [
      "Already up to date.\n"
     ]
    }
   ],
   "source": [
    "git_dir = '../COVID-19'\n",
    "if 'COVID-19' not in os.listdir('../'):\n",
    "    clone_path = os.path.abspath('../')\n",
    "    print (\"Cloning https://github.com/CSSEGISandData/COVID-19.git repo\")\n",
    "    print (f\"at the path {clone_path}\")\n",
    "    git.Git('../').clone('https://github.com/CSSEGISandData/COVID-19.git')\n",
    "else:\n",
    "    g = git.cmd.Git(git_dir)\n",
    "    print (g.pull())"
   ]
  },
  {
   "cell_type": "code",
   "execution_count": 55,
   "metadata": {},
   "outputs": [],
   "source": [
    "data_path = '../COVID-19/csse_covid_19_data/csse_covid_19_daily_reports/*.csv'\n",
    "\n",
    "all_paths = glob(data_path)"
   ]
  },
  {
   "cell_type": "code",
   "execution_count": 56,
   "metadata": {},
   "outputs": [],
   "source": [
    "li = []\n",
    "\n",
    "for filename in all_paths:\n",
    "    df = pd.read_csv(filename, index_col=None, header=0)\n",
    "    li.append(df)\n",
    "\n",
    "frame = pd.concat(li, axis=0, ignore_index=True)"
   ]
  },
  {
   "cell_type": "code",
   "execution_count": 57,
   "metadata": {},
   "outputs": [],
   "source": [
    "col_pairs = [\n",
    "    ('Province/State', 'Province_State'),\n",
    "    ('Country/Region', 'Country_Region'), \n",
    "    ('Last Update', 'Last_Update'),\n",
    "    ('Latitude', 'Lat'),\n",
    "    ('Longitude', 'Long_')\n",
    "]"
   ]
  },
  {
   "cell_type": "markdown",
   "metadata": {},
   "source": [
    "### Data Cleaning"
   ]
  },
  {
   "cell_type": "code",
   "execution_count": 58,
   "metadata": {},
   "outputs": [],
   "source": [
    "### correct the columns in data frame\n",
    "\n",
    "def replace_nan_col_a(df, col_a, col_b):\n",
    "    df[col_a] = np.where(pd.isnull(df[col_a]), df[col_b], df[col_a])\n",
    "    df.drop(col_b, axis= 1, inplace= True)"
   ]
  },
  {
   "cell_type": "code",
   "execution_count": 59,
   "metadata": {},
   "outputs": [],
   "source": [
    "for col_pair in col_pairs:\n",
    "    replace_nan_col_a(frame, *col_pair)"
   ]
  },
  {
   "cell_type": "markdown",
   "metadata": {},
   "source": [
    "### Data Types"
   ]
  },
  {
   "cell_type": "code",
   "execution_count": 87,
   "metadata": {},
   "outputs": [
    {
     "name": "stdout",
     "output_type": "stream",
     "text": [
      "<class 'pandas.core.frame.DataFrame'>\n",
      "RangeIndex: 40873 entries, 0 to 40872\n",
      "Data columns (total 12 columns):\n",
      " #   Column          Non-Null Count  Dtype  \n",
      "---  ------          --------------  -----  \n",
      " 0   Province/State  35917 non-null  object \n",
      " 1   Country/Region  40873 non-null  object \n",
      " 2   Last Update     40873 non-null  object \n",
      " 3   Confirmed       40854 non-null  float64\n",
      " 4   Deaths          40432 non-null  float64\n",
      " 5   Recovered       40485 non-null  float64\n",
      " 6   Latitude        38040 non-null  float64\n",
      " 7   Longitude       38040 non-null  float64\n",
      " 8   FIPS            30467 non-null  float64\n",
      " 9   Admin2          30715 non-null  object \n",
      " 10  Active          33256 non-null  float64\n",
      " 11  Combined_Key    33256 non-null  object \n",
      "dtypes: float64(7), object(5)\n",
      "memory usage: 3.7+ MB\n"
     ]
    }
   ],
   "source": [
    "frame.info()"
   ]
  },
  {
   "cell_type": "code",
   "execution_count": 90,
   "metadata": {},
   "outputs": [],
   "source": [
    "frame['Last Update'] = pd.to_datetime(frame['Last Update'])"
   ]
  },
  {
   "cell_type": "code",
   "execution_count": 124,
   "metadata": {},
   "outputs": [
    {
     "name": "stdout",
     "output_type": "stream",
     "text": [
      "<class 'pandas.core.frame.DataFrame'>\n",
      "RangeIndex: 40873 entries, 0 to 40872\n",
      "Data columns (total 12 columns):\n",
      " #   Column          Non-Null Count  Dtype         \n",
      "---  ------          --------------  -----         \n",
      " 0   Province/State  35917 non-null  object        \n",
      " 1   Country/Region  40873 non-null  object        \n",
      " 2   Last Update     40873 non-null  datetime64[ns]\n",
      " 3   Confirmed       40854 non-null  float64       \n",
      " 4   Deaths          40432 non-null  float64       \n",
      " 5   Recovered       40485 non-null  float64       \n",
      " 6   Latitude        38040 non-null  float64       \n",
      " 7   Longitude       38040 non-null  float64       \n",
      " 8   FIPS            30467 non-null  float64       \n",
      " 9   Admin2          30715 non-null  object        \n",
      " 10  Active          33256 non-null  float64       \n",
      " 11  Combined_Key    33256 non-null  object        \n",
      "dtypes: datetime64[ns](1), float64(7), object(4)\n",
      "memory usage: 3.7+ MB\n"
     ]
    }
   ],
   "source": [
    "frame.info()"
   ]
  },
  {
   "cell_type": "markdown",
   "metadata": {},
   "source": [
    "### Duplicates"
   ]
  },
  {
   "cell_type": "code",
   "execution_count": 112,
   "metadata": {},
   "outputs": [],
   "source": [
    "### datetime, country, province keeping last as that has longitude and latitude\n",
    "df = frame.drop_duplicates(['Country/Region', 'Province/State', 'Last Update', 'Admin2'], keep='last')"
   ]
  },
  {
   "cell_type": "code",
   "execution_count": 116,
   "metadata": {},
   "outputs": [],
   "source": [
    "if 'data' not in os.listdir('./'):\n",
    "    os.mkdir('data')\n",
    "    \n",
    "df.to_csv('data/master_data.csv')"
   ]
  }
 ],
 "metadata": {
  "kernelspec": {
   "display_name": "Python 3",
   "language": "python",
   "name": "python3"
  },
  "language_info": {
   "codemirror_mode": {
    "name": "ipython",
    "version": 3
   },
   "file_extension": ".py",
   "mimetype": "text/x-python",
   "name": "python",
   "nbconvert_exporter": "python",
   "pygments_lexer": "ipython3",
   "version": "3.7.3"
  }
 },
 "nbformat": 4,
 "nbformat_minor": 4
}
