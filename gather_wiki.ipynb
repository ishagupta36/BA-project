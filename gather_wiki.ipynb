{
 "cells": [
  {
   "cell_type": "code",
   "execution_count": 2,
   "metadata": {},
   "outputs": [],
   "source": [
    "import requests\n",
    "from bs4 import BeautifulSoup\n",
    "import pandas as pd\n",
    "import numpy as np"
   ]
  },
  {
   "cell_type": "markdown",
   "metadata": {},
   "source": [
    "## South Korea"
   ]
  },
  {
   "cell_type": "code",
   "execution_count": 6,
   "metadata": {},
   "outputs": [],
   "source": [
    "response = requests.get('https://en.wikipedia.org/wiki/2020_coronavirus_pandemic_in_South_Korea')\n",
    "soup = BeautifulSoup(response.content, 'lxml')\n",
    "jan = soup.find_all('tr', attrs={'id': 'mw-customcollapsible-jan'})\n",
    "feb = soup.find_all('tr', attrs={'id': 'mw-customcollapsible-feb'})\n",
    "march = soup.find_all('tr', attrs={'id': 'mw-customcollapsible-mar'})\n",
    "april = soup.find_all('tr', attrs={'id': 'mw-customcollapsible-apr'})\n",
    "april_2 = soup.find_all('tr', attrs={'id': 'mw-customcollapsible-apr-l15'})"
   ]
  },
  {
   "cell_type": "code",
   "execution_count": 9,
   "metadata": {},
   "outputs": [],
   "source": [
    "df_dict = dict()\n",
    "df_dict['date'] = list()\n",
    "df_dict['cases'] = list()\n",
    "df_dict['deaths'] = list()\n",
    "df_dict['recovered'] = list()\n",
    "\n",
    "def populate_dict(dataset):\n",
    "    for data in dataset:\n",
    "        date = data.find('td').get_text().replace(',', '')\n",
    "        cases = data.find_all('td')[2].find('span', attrs={'class':'cbs-ibr'}).get_text().replace(',', '')\n",
    "        deaths = data.find_all('td')[3].find('span', attrs={'class':'cbs-ibr'}).get_text().replace(',', '')\n",
    "        div_ = data.find_all('div')\n",
    "        if len(div_) >= 3:\n",
    "            recovered = div_[1].get('title').replace(',', '')\n",
    "        else:\n",
    "            recovered = '0'\n",
    "        df_dict['date'].append(date)\n",
    "        df_dict['cases'].append(cases)\n",
    "        df_dict['deaths'].append(deaths)\n",
    "        df_dict['recovered'].append(recovered)\n",
    "populate_dict(jan)\n",
    "populate_dict(feb)\n",
    "populate_dict(march)\n",
    "populate_dict(april)\n",
    "populate_dict(april_2)"
   ]
  },
  {
   "cell_type": "code",
   "execution_count": 34,
   "metadata": {},
   "outputs": [],
   "source": [
    "south_korea = pd.DataFrame(df_dict)\n",
    "def populate_df(df):\n",
    "    df['date'] = pd.to_datetime(df['date'])\n",
    "    df['recovered'] = df['recovered'].replace('', '0').astype(int)\n",
    "    df['cases'] = df['cases'].replace('', '0').astype(int)\n",
    "    df['deaths'] = df['deaths'].replace('', '0').astype(int)\n",
    "    df['active'] = df['cases'] - df['recovered'] - df['deaths']\n",
    "\n",
    "    df = df.set_index('date')\n",
    "    return df"
   ]
  },
  {
   "cell_type": "code",
   "execution_count": 35,
   "metadata": {},
   "outputs": [],
   "source": [
    "south_korea = south_korea[~(south_korea['date'] == '⋮')]\n",
    "\n",
    "south_korea = populate_df(south_korea)\n",
    "\n",
    "south_korea['date'] = pd.to_datetime(south_korea['date'])\n",
    "\n",
    "idx = pd.date_range('01-20-2020', '04-20-2020')\n",
    "\n",
    "south_korea = south_korea.reindex(idx)\n",
    "\n",
    "south_korea = south_korea.fillna(method='ffill')"
   ]
  },
  {
   "cell_type": "markdown",
   "metadata": {},
   "source": [
    "### save df"
   ]
  },
  {
   "cell_type": "code",
   "execution_count": 49,
   "metadata": {},
   "outputs": [],
   "source": [
    "south_korea.to_csv('data/master_data/south_korea/from_wiki.csv')"
   ]
  },
  {
   "cell_type": "markdown",
   "metadata": {},
   "source": [
    "## New York"
   ]
  },
  {
   "cell_type": "code",
   "execution_count": 50,
   "metadata": {},
   "outputs": [],
   "source": [
    "response = requests.get('https://en.wikipedia.org/wiki/2020_coronavirus_pandemic_in_New_York_(state)')\n",
    "soup = BeautifulSoup(response.content, 'lxml')\n",
    "march = soup.find_all('tr', attrs={'id': 'mw-customcollapsible-mar'})\n",
    "april = soup.find_all('tr', attrs={'id': 'mw-customcollapsible-apr'})\n",
    "april_2 = soup.find_all('tr', attrs={'id': 'mw-customcollapsible-apr-l15'})"
   ]
  },
  {
   "cell_type": "code",
   "execution_count": 55,
   "metadata": {},
   "outputs": [],
   "source": [
    "df_dict = dict()\n",
    "df_dict['date'] = list()\n",
    "df_dict['cases'] = list()\n",
    "df_dict['deaths'] = list()\n",
    "df_dict['recovered'] = list()\n",
    "\n",
    "populate_dict(march)\n",
    "populate_dict(april)\n",
    "populate_dict(april_2)"
   ]
  },
  {
   "cell_type": "code",
   "execution_count": 56,
   "metadata": {},
   "outputs": [],
   "source": [
    "new_york = pd.DataFrame(df_dict)"
   ]
  },
  {
   "cell_type": "code",
   "execution_count": 57,
   "metadata": {},
   "outputs": [],
   "source": [
    "new_york = populate_df(new_york)"
   ]
  },
  {
   "cell_type": "markdown",
   "metadata": {},
   "source": [
    "### Save df"
   ]
  },
  {
   "cell_type": "code",
   "execution_count": 59,
   "metadata": {},
   "outputs": [],
   "source": [
    "new_york.to_csv('data/master_data/new_york/from_wiki.csv')"
   ]
  }
 ],
 "metadata": {
  "kernelspec": {
   "display_name": "Python 3",
   "language": "python",
   "name": "python3"
  },
  "language_info": {
   "codemirror_mode": {
    "name": "ipython",
    "version": 3
   },
   "file_extension": ".py",
   "mimetype": "text/x-python",
   "name": "python",
   "nbconvert_exporter": "python",
   "pygments_lexer": "ipython3",
   "version": "3.7.3"
  }
 },
 "nbformat": 4,
 "nbformat_minor": 4
}
