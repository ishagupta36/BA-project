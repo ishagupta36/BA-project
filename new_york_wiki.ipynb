{
 "cells": [
  {
   "cell_type": "code",
   "execution_count": 1,
   "metadata": {},
   "outputs": [],
   "source": [
    "import requests\n",
    "from bs4 import BeautifulSoup\n",
    "import pandas as pd\n",
    "import numpy as np"
   ]
  },
  {
   "cell_type": "markdown",
   "metadata": {},
   "source": [
    "### Scrape from wikipedia"
   ]
  },
  {
   "cell_type": "code",
   "execution_count": 78,
   "metadata": {},
   "outputs": [],
   "source": [
    "url = 'https://en.wikipedia.org/wiki/2020_coronavirus_pandemic_in_New_York_City'\n",
    "response = requests.get(url)\n",
    "soup = BeautifulSoup(response.content, 'lxml')"
   ]
  },
  {
   "cell_type": "code",
   "execution_count": 139,
   "metadata": {},
   "outputs": [],
   "source": [
    "df_dict = dict()\n",
    "df_dict['date'] = list()\n",
    "df_dict['cases'] = list()\n",
    "df_dict['deaths'] = list()\n",
    "df_dict['recovered'] = list()\n",
    "for tr in trs:\n",
    "    dt, cases, deaths = tr.find_all('td', attrs={'class':'bb-04em'})\n",
    "    date = dt.get_text().replace(',', '')\n",
    "    cases = cases.find('span', attrs={'class':'cbs-ibr'}).get_text().replace(',', '')\n",
    "    deaths = deaths.find('span', attrs={'class':'cbs-ibr'}).get_text().replace(',', '')\n",
    "\n",
    "    recovered = tr.find_all('div', attrs={'class': 'bb-fl'})\n",
    "    if len(recovered) >= 3:\n",
    "        recovered = recovered[1].get('title').replace(',', '')\n",
    "    else:\n",
    "        recovered = '0'   \n",
    "    df_dict['date'].append(date)\n",
    "    df_dict['cases'].append(cases)\n",
    "    df_dict['deaths'].append(deaths)\n",
    "    df_dict['recovered'].append(recovered)"
   ]
  },
  {
   "cell_type": "code",
   "execution_count": 140,
   "metadata": {},
   "outputs": [],
   "source": [
    "new_york = pd.DataFrame(df_dict)"
   ]
  },
  {
   "cell_type": "code",
   "execution_count": 141,
   "metadata": {},
   "outputs": [],
   "source": [
    "new_york['date'] = pd.to_datetime(new_york['date'])\n",
    "new_york['recovered'] = new_york['recovered'].astype(int)\n",
    "new_york['cases'] = new_york['cases'].astype(int)\n",
    "new_york['deaths'] = new_york['deaths'].astype(int)\n",
    "new_york['active'] = new_york['cases'] - new_york['recovered'] - new_york['deaths']\n",
    "\n",
    "new_york = new_york.set_index('date')"
   ]
  },
  {
   "cell_type": "markdown",
   "metadata": {},
   "source": [
    "### Save data"
   ]
  },
  {
   "cell_type": "code",
   "execution_count": 143,
   "metadata": {},
   "outputs": [],
   "source": [
    "new_york.to_csv('data/master_data/new_york/from_wiki.csv')"
   ]
  }
 ],
 "metadata": {
  "kernelspec": {
   "display_name": "Python 3",
   "language": "python",
   "name": "python3"
  },
  "language_info": {
   "codemirror_mode": {
    "name": "ipython",
    "version": 3
   },
   "file_extension": ".py",
   "mimetype": "text/x-python",
   "name": "python",
   "nbconvert_exporter": "python",
   "pygments_lexer": "ipython3",
   "version": "3.7.3"
  }
 },
 "nbformat": 4,
 "nbformat_minor": 4
}
