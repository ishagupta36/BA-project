{
 "cells": [
  {
   "cell_type": "code",
   "execution_count": 67,
   "metadata": {},
   "outputs": [],
   "source": [
    "### automating pull from git\n",
    "import git\n",
    "import os\n",
    "from glob import glob\n",
    "import pandas as pd\n",
    "import numpy as np\n",
    "%matplotlib inline\n",
    "from matplotlib import pyplot as plt\n",
    "import seaborn as sns\n",
    "import shutil"
   ]
  },
  {
   "cell_type": "markdown",
   "metadata": {},
   "source": [
    "### Data Source: https://github.com/CSSEGISandData/COVID-19\n",
    "\n",
    "John Hopkins COVID Research github repo"
   ]
  },
  {
   "cell_type": "code",
   "execution_count": 68,
   "metadata": {},
   "outputs": [
    {
     "name": "stdout",
     "output_type": "stream",
     "text": [
      "Updating 6af1fed7..7b8a6cb4\n",
      "Fast-forward\n",
      " csse_covid_19_data/README.md                     |  24 +\n",
      " csse_covid_19_data/UID_ISO_FIPS_LookUp_Table.csv | 792 ++++++++++++-----------\n",
      " 2 files changed, 421 insertions(+), 395 deletions(-)\n"
     ]
    }
   ],
   "source": [
    "def gitpull(git_dir, clone_dir, git_repo):\n",
    "    repo = git_dir.split('/')[-1]\n",
    "    if repo not in os.listdir(clone_dir):\n",
    "        clone_path = os.path.abspath(clone_dir)\n",
    "        print (f\"Cloning {git_repo} repo\")\n",
    "        print (f\"at the path {clone_path}\")\n",
    "        print(git.Git(clone_path).clone(git_repo))\n",
    "    else:\n",
    "        g = git.cmd.Git(git_dir)\n",
    "        print (g.pull())\n",
    "git_dir = '../COVID-19'\n",
    "git_repo = 'https://github.com/CSSEGISandData/COVID-19.git'\n",
    "clone_dir = '../'\n",
    "\n",
    "gitpull(git_dir, clone_dir, git_repo)"
   ]
  },
  {
   "cell_type": "markdown",
   "metadata": {},
   "source": [
    "### All data files"
   ]
  },
  {
   "cell_type": "code",
   "execution_count": 69,
   "metadata": {},
   "outputs": [],
   "source": [
    "data_path = '../COVID-19/csse_covid_19_data/csse_covid_19_daily_reports/*.csv'\n",
    "\n",
    "all_paths = glob(data_path)"
   ]
  },
  {
   "cell_type": "code",
   "execution_count": 70,
   "metadata": {},
   "outputs": [],
   "source": [
    "li = []\n",
    "\n",
    "for filename in all_paths:\n",
    "    df = pd.read_csv(filename, index_col=None, header=0)\n",
    "    li.append(df)\n",
    "\n",
    "frame = pd.concat(li, axis=0, ignore_index=True)"
   ]
  },
  {
   "cell_type": "code",
   "execution_count": 71,
   "metadata": {},
   "outputs": [],
   "source": [
    "col_pairs = [\n",
    "    ('Province/State', 'Province_State'),\n",
    "    ('Country/Region', 'Country_Region'), \n",
    "    ('Last Update', 'Last_Update'),\n",
    "    ('Latitude', 'Lat'),\n",
    "    ('Longitude', 'Long_')\n",
    "]"
   ]
  },
  {
   "cell_type": "markdown",
   "metadata": {},
   "source": [
    "### Data Cleaning"
   ]
  },
  {
   "cell_type": "code",
   "execution_count": 72,
   "metadata": {},
   "outputs": [],
   "source": [
    "### correct the columns in data frame\n",
    "\n",
    "def replace_nan_col_a(df, col_a, col_b):\n",
    "    df[col_a] = np.where(pd.isnull(df[col_a]), df[col_b], df[col_a])\n",
    "    df.drop(col_b, axis= 1, inplace= True)"
   ]
  },
  {
   "cell_type": "code",
   "execution_count": 73,
   "metadata": {},
   "outputs": [],
   "source": [
    "for col_pair in col_pairs:\n",
    "    replace_nan_col_a(frame, *col_pair)"
   ]
  },
  {
   "cell_type": "markdown",
   "metadata": {},
   "source": [
    "### Data Types"
   ]
  },
  {
   "cell_type": "code",
   "execution_count": 74,
   "metadata": {},
   "outputs": [
    {
     "name": "stdout",
     "output_type": "stream",
     "text": [
      "<class 'pandas.core.frame.DataFrame'>\n",
      "RangeIndex: 45927 entries, 0 to 45926\n",
      "Data columns (total 12 columns):\n",
      " #   Column          Non-Null Count  Dtype  \n",
      "---  ------          --------------  -----  \n",
      " 0   Province/State  40618 non-null  object \n",
      " 1   Country/Region  45927 non-null  object \n",
      " 2   Last Update     45927 non-null  object \n",
      " 3   Confirmed       45908 non-null  float64\n",
      " 4   Deaths          45486 non-null  float64\n",
      " 5   Recovered       45539 non-null  float64\n",
      " 6   Latitude        43039 non-null  float64\n",
      " 7   Longitude       43039 non-null  float64\n",
      " 8   FIPS            34926 non-null  float64\n",
      " 9   Admin2          35243 non-null  object \n",
      " 10  Active          38310 non-null  float64\n",
      " 11  Combined_Key    38310 non-null  object \n",
      "dtypes: float64(7), object(5)\n",
      "memory usage: 4.2+ MB\n"
     ]
    }
   ],
   "source": [
    "frame.info()"
   ]
  },
  {
   "cell_type": "code",
   "execution_count": 75,
   "metadata": {},
   "outputs": [],
   "source": [
    "frame['Last Update'] = pd.to_datetime(frame['Last Update'])"
   ]
  },
  {
   "cell_type": "code",
   "execution_count": 76,
   "metadata": {},
   "outputs": [
    {
     "name": "stdout",
     "output_type": "stream",
     "text": [
      "<class 'pandas.core.frame.DataFrame'>\n",
      "RangeIndex: 45927 entries, 0 to 45926\n",
      "Data columns (total 12 columns):\n",
      " #   Column          Non-Null Count  Dtype         \n",
      "---  ------          --------------  -----         \n",
      " 0   Province/State  40618 non-null  object        \n",
      " 1   Country/Region  45927 non-null  object        \n",
      " 2   Last Update     45927 non-null  datetime64[ns]\n",
      " 3   Confirmed       45908 non-null  float64       \n",
      " 4   Deaths          45486 non-null  float64       \n",
      " 5   Recovered       45539 non-null  float64       \n",
      " 6   Latitude        43039 non-null  float64       \n",
      " 7   Longitude       43039 non-null  float64       \n",
      " 8   FIPS            34926 non-null  float64       \n",
      " 9   Admin2          35243 non-null  object        \n",
      " 10  Active          38310 non-null  float64       \n",
      " 11  Combined_Key    38310 non-null  object        \n",
      "dtypes: datetime64[ns](1), float64(7), object(4)\n",
      "memory usage: 4.2+ MB\n"
     ]
    }
   ],
   "source": [
    "frame.info()"
   ]
  },
  {
   "cell_type": "markdown",
   "metadata": {},
   "source": [
    "### Duplicates"
   ]
  },
  {
   "cell_type": "code",
   "execution_count": 77,
   "metadata": {},
   "outputs": [],
   "source": [
    "### datetime, country, province keeping last as that has longitude and latitude\n",
    "df = frame.drop_duplicates(['Country/Region', 'Province/State', 'Last Update', 'Admin2'], keep='last')"
   ]
  },
  {
   "cell_type": "code",
   "execution_count": 78,
   "metadata": {},
   "outputs": [],
   "source": [
    "if 'data' not in os.listdir('./'):\n",
    "    os.mkdir('data')\n",
    "    \n",
    "if 'master_data' not in os.listdir('data/'):\n",
    "    os.mkdir('data/master_data')\n",
    "    \n",
    "df.to_csv('data/master_data/john_hopkins_research.csv')"
   ]
  },
  {
   "cell_type": "markdown",
   "metadata": {},
   "source": [
    "## Data Source: https://github.com/nychealth/coronavirus-data\n",
    "\n",
    "NYC health Coronavirus"
   ]
  },
  {
   "cell_type": "code",
   "execution_count": 79,
   "metadata": {},
   "outputs": [
    {
     "name": "stdout",
     "output_type": "stream",
     "text": [
      "Updating dd2010c..10efdd3\n",
      "Fast-forward\n",
      " .DS_Store           | Bin 6148 -> 0 bytes\n",
      " boro.csv            |  12 ++++++------\n",
      " by-age.csv          |  12 ++++++------\n",
      " by-sex.csv          |   6 +++---\n",
      " case-hosp-death.csv |  49 +++++++++++++++++++++++++------------------------\n",
      " summary.csv         |   8 ++++----\n",
      " 6 files changed, 44 insertions(+), 43 deletions(-)\n",
      " delete mode 100644 .DS_Store\n"
     ]
    }
   ],
   "source": [
    "git_dir = '../coronavirus-data'\n",
    "git_repo = 'https://github.com/nychealth/coronavirus-data.git'\n",
    "clone_dir = '../'\n",
    "\n",
    "gitpull(git_dir, clone_dir, git_repo)"
   ]
  },
  {
   "cell_type": "markdown",
   "metadata": {},
   "source": [
    "### list all the files in the dataset"
   ]
  },
  {
   "cell_type": "code",
   "execution_count": 80,
   "metadata": {},
   "outputs": [
    {
     "data": {
      "text/plain": [
       "['.git',\n",
       " 'boro.csv',\n",
       " 'by-age.csv',\n",
       " 'by-sex.csv',\n",
       " 'case-hosp-death.csv',\n",
       " 'README.md',\n",
       " 'summary.csv',\n",
       " 'testing.csv',\n",
       " 'tests-by-zcta.csv']"
      ]
     },
     "execution_count": 80,
     "metadata": {},
     "output_type": "execute_result"
    }
   ],
   "source": [
    "os.listdir(git_dir)"
   ]
  },
  {
   "cell_type": "code",
   "execution_count": 81,
   "metadata": {},
   "outputs": [],
   "source": [
    "### create new_york directory in master data\n",
    "if 'new_york' not in os.listdir('data/master_data'):\n",
    "    os.mkdir('7/master_data/new_york')"
   ]
  },
  {
   "cell_type": "code",
   "execution_count": 82,
   "metadata": {},
   "outputs": [],
   "source": [
    "all_csvs = glob(git_dir + '/*.csv')\n",
    "dest_dir = 'data/master_data/new_york/'\n",
    "for f in all_csvs:\n",
    "    if '\\\\' in f:\n",
    "        file_name = f.split('\\\\')[-1]\n",
    "    else:\n",
    "        file_name = f.split('/')[-1]\n",
    "    file_path = dest_dir + file_name\n",
    "    shutil.copyfile(f, file_path)"
   ]
  },
  {
   "cell_type": "markdown",
   "metadata": {},
   "source": [
    "### Country Level COVID Data"
   ]
  },
  {
   "cell_type": "code",
   "execution_count": 83,
   "metadata": {},
   "outputs": [
    {
     "name": "stdout",
     "output_type": "stream",
     "text": [
      "Updating cc667f1..42e40eb\n",
      "Fast-forward\n",
      " input/ecdc/ecdc_country_standardized.csv      |   411 +-\n",
      " input/ecdc/releases/2020-04-03.xlsx           |   Bin 0 -> 369620 bytes\n",
      " input/ecdc/releases/latest.csv                |   218 +-\n",
      " input/owid/continents.csv                     |   286 +\n",
      " public/data/ecdc/COVID-2019 - ECDC (2020).csv | 18843 +++++++++++++-----------\n",
      " public/data/ecdc/full_data.csv                |   215 +-\n",
      " public/data/ecdc/locations.csv                |   409 +-\n",
      " public/data/ecdc/new_cases.csv                |   191 +-\n",
      " public/data/ecdc/new_cases_per_million.csv    |   191 +-\n",
      " public/data/ecdc/new_deaths.csv               |   191 +-\n",
      " public/data/ecdc/new_deaths_per_million.csv   |   191 +-\n",
      " public/data/ecdc/total_cases.csv              |   191 +-\n",
      " public/data/ecdc/total_cases_per_million.csv  |   191 +-\n",
      " public/data/ecdc/total_deaths.csv             |   191 +-\n",
      " public/data/ecdc/total_deaths_per_million.csv |   191 +-\n",
      " scripts/ecdc.py                               |    11 +-\n",
      " scripts/shared.py                             |   108 +-\n",
      " 17 files changed, 11925 insertions(+), 10104 deletions(-)\n",
      " create mode 100644 input/ecdc/releases/2020-04-03.xlsx\n",
      " create mode 100644 input/owid/continents.csv\n"
     ]
    }
   ],
   "source": [
    "git_dir = '../covid-19-data'\n",
    "git_repo = 'https://github.com/owid/covid-19-data.git'\n",
    "clone_dir = '../'\n",
    "\n",
    "gitpull(git_dir, clone_dir, git_repo)"
   ]
  },
  {
   "cell_type": "code",
   "execution_count": 84,
   "metadata": {},
   "outputs": [],
   "source": [
    "if 'country_level' not in os.listdir('data/master_data/'):\n",
    "    os.mkdir('data/master_data/country_level')"
   ]
  },
  {
   "cell_type": "code",
   "execution_count": 85,
   "metadata": {},
   "outputs": [],
   "source": [
    "for f in glob('../covid-19-data/public/data/ecdc/*.csv'):\n",
    "    if '\\\\' in f:\n",
    "        file_name = f.split('\\\\')[-1]\n",
    "    else:\n",
    "        file_name = f.split('/')[-1]\n",
    "    file_name = 'data/master_data/country_level/' + file_name\n",
    "    shutil.copyfile(f, file_name)"
   ]
  }
 ],
 "metadata": {
  "kernelspec": {
   "display_name": "Python 3",
   "language": "python",
   "name": "python3"
  },
  "language_info": {
   "codemirror_mode": {
    "name": "ipython",
    "version": 3
   },
   "file_extension": ".py",
   "mimetype": "text/x-python",
   "name": "python",
   "nbconvert_exporter": "python",
   "pygments_lexer": "ipython3",
   "version": "3.7.3"
  }
 },
 "nbformat": 4,
 "nbformat_minor": 4
}
