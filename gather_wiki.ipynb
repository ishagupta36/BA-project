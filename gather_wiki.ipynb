{
 "cells": [
  {
   "cell_type": "code",
   "execution_count": 1,
   "metadata": {},
   "outputs": [],
   "source": [
    "import requests\n",
    "from bs4 import BeautifulSoup\n",
    "import pandas as pd\n",
    "import numpy as np"
   ]
  },
  {
   "cell_type": "markdown",
   "metadata": {},
   "source": [
    "## South Korea"
   ]
  },
  {
   "cell_type": "code",
   "execution_count": 3,
   "metadata": {},
   "outputs": [],
   "source": [
    "response = requests.get('https://en.wikipedia.org/wiki/2020_coronavirus_pandemic_in_South_Korea')\n",
    "soup = BeautifulSoup(response.content, 'lxml')\n",
    "jan = soup.find_all('tr', attrs={'id': 'mw-customcollapsible-jan'})\n",
    "feb = soup.find_all('tr', attrs={'id': 'mw-customcollapsible-feb'})\n",
    "march = soup.find_all('tr', attrs={'id': 'mw-customcollapsible-mar'})\n",
    "april = soup.find_all('tr', attrs={'id': 'mw-customcollapsible-apr'})\n",
    "april_2 = soup.find_all('tr', attrs={'id': 'mw-customcollapsible-apr-l15'})"
   ]
  },
  {
   "cell_type": "code",
   "execution_count": 4,
   "metadata": {},
   "outputs": [],
   "source": [
    "df_dict = dict()\n",
    "df_dict['date'] = list()\n",
    "df_dict['cases'] = list()\n",
    "df_dict['deaths'] = list()\n",
    "df_dict['recovered'] = list()\n",
    "\n",
    "def populate_dict(dataset, country = None):\n",
    "    for data in dataset:\n",
    "        date = data.find('td').get_text().replace(',', '')\n",
    "        if len(data.find_all('td')) >= 3:\n",
    "            cases = data.find_all('td')[2].find('span', attrs={'class':'cbs-ibr'}).get_text().replace(',', '')\n",
    "            if len(data.find_all('td')) >= 4:\n",
    "                deaths = data.find_all('td')[3].find('span', attrs={'class':'cbs-ibr'}).get_text().replace(',', '')\n",
    "            else:\n",
    "                deaths = '0'\n",
    "        else:\n",
    "            cases = '0'\n",
    "            deaths = '0'\n",
    "            \n",
    "        \n",
    "        div_ = data.find_all('div')\n",
    "        if len(div_) >= 3:\n",
    "            if country == 'new_zealand':\n",
    "                deaths = div_[0].get('title').replace(',', '') \n",
    "            recovered = div_[1].get('title').replace(',', '')\n",
    "        else:\n",
    "            recovered = '0'\n",
    "        df_dict['date'].append(date)\n",
    "        df_dict['cases'].append(cases)\n",
    "        df_dict['deaths'].append(deaths)\n",
    "        df_dict['recovered'].append(recovered)\n"
   ]
  },
  {
   "cell_type": "code",
   "execution_count": null,
   "metadata": {},
   "outputs": [],
   "source": [
    "populate_dict(jan)\n",
    "populate_dict(feb)\n",
    "populate_dict(march)\n",
    "populate_dict(april)\n",
    "populate_dict(april_2)\n",
    "south_korea = pd.DataFrame(df_dict)"
   ]
  },
  {
   "cell_type": "code",
   "execution_count": 5,
   "metadata": {},
   "outputs": [],
   "source": [
    "\n",
    "def populate_df(df):\n",
    "    df['date'] = pd.to_datetime(df['date'])\n",
    "    df['recovered'] = df['recovered'].replace('', '0').astype(int)\n",
    "    df['cases'] = df['cases'].replace('', '0').astype(int)\n",
    "    df['deaths'] = df['deaths'].replace('', '0').astype(int)\n",
    "    df['active'] = df['cases'] - df['recovered'] - df['deaths']\n",
    "\n",
    "    df = df.set_index('date')\n",
    "    return df"
   ]
  },
  {
   "cell_type": "code",
   "execution_count": 35,
   "metadata": {},
   "outputs": [],
   "source": [
    "south_korea = south_korea[~(south_korea['date'] == '⋮')]\n",
    "\n",
    "south_korea = populate_df(south_korea)\n",
    "\n",
    "idx = pd.date_range('01-20-2020', '04-20-2020')\n",
    "\n",
    "south_korea = south_korea.reindex(idx)\n",
    "\n",
    "south_korea = south_korea.fillna(method='ffill')"
   ]
  },
  {
   "cell_type": "markdown",
   "metadata": {},
   "source": [
    "### save df"
   ]
  },
  {
   "cell_type": "code",
   "execution_count": 49,
   "metadata": {},
   "outputs": [],
   "source": [
    "south_korea.to_csv('data/master_data/south_korea/from_wiki.csv')"
   ]
  },
  {
   "cell_type": "markdown",
   "metadata": {},
   "source": [
    "## New York"
   ]
  },
  {
   "cell_type": "code",
   "execution_count": 50,
   "metadata": {},
   "outputs": [],
   "source": [
    "response = requests.get('https://en.wikipedia.org/wiki/2020_coronavirus_pandemic_in_New_York_(state)')\n",
    "soup = BeautifulSoup(response.content, 'lxml')\n",
    "march = soup.find_all('tr', attrs={'id': 'mw-customcollapsible-mar'})\n",
    "april = soup.find_all('tr', attrs={'id': 'mw-customcollapsible-apr'})\n",
    "april_2 = soup.find_all('tr', attrs={'id': 'mw-customcollapsible-apr-l15'})"
   ]
  },
  {
   "cell_type": "code",
   "execution_count": 55,
   "metadata": {},
   "outputs": [],
   "source": [
    "df_dict = dict()\n",
    "df_dict['date'] = list()\n",
    "df_dict['cases'] = list()\n",
    "df_dict['deaths'] = list()\n",
    "df_dict['recovered'] = list()\n",
    "\n",
    "populate_dict(march)\n",
    "populate_dict(april)\n",
    "populate_dict(april_2)"
   ]
  },
  {
   "cell_type": "code",
   "execution_count": 56,
   "metadata": {},
   "outputs": [],
   "source": [
    "new_york = pd.DataFrame(df_dict)"
   ]
  },
  {
   "cell_type": "code",
   "execution_count": 57,
   "metadata": {},
   "outputs": [],
   "source": [
    "new_york = populate_df(new_york)"
   ]
  },
  {
   "cell_type": "markdown",
   "metadata": {},
   "source": [
    "### Save df"
   ]
  },
  {
   "cell_type": "code",
   "execution_count": 59,
   "metadata": {},
   "outputs": [],
   "source": [
    "new_york.to_csv('data/master_data/new_york/from_wiki.csv')"
   ]
  },
  {
   "cell_type": "markdown",
   "metadata": {},
   "source": [
    "## India"
   ]
  },
  {
   "cell_type": "code",
   "execution_count": 60,
   "metadata": {},
   "outputs": [],
   "source": [
    "response = requests.get('https://en.wikipedia.org/wiki/2020_coronavirus_pandemic_in_India')\n",
    "soup = BeautifulSoup(response.content, 'lxml')\n",
    "jan = soup.find_all('tr', attrs={'id': 'mw-customcollapsible-jan'})\n",
    "feb = soup.find_all('tr', attrs={'id': 'mw-customcollapsible-feb'})\n",
    "march = soup.find_all('tr', attrs={'id': 'mw-customcollapsible-mar'})\n",
    "april = soup.find_all('tr', attrs={'id': 'mw-customcollapsible-apr'})\n",
    "april_2 = soup.find_all('tr', attrs={'id': 'mw-customcollapsible-apr-l15'})"
   ]
  },
  {
   "cell_type": "code",
   "execution_count": 64,
   "metadata": {},
   "outputs": [],
   "source": [
    "df_dict = dict()\n",
    "df_dict['date'] = list()\n",
    "df_dict['cases'] = list()\n",
    "df_dict['deaths'] = list()\n",
    "df_dict['recovered'] = list()\n",
    "\n",
    "populate_dict(jan)\n",
    "populate_dict(feb)\n",
    "populate_dict(march)\n",
    "populate_dict(april)\n",
    "populate_dict(april_2)\n",
    "india = pd.DataFrame(df_dict)"
   ]
  },
  {
   "cell_type": "code",
   "execution_count": 65,
   "metadata": {},
   "outputs": [],
   "source": [
    "india = india[~(india['date'] == '⋮')]\n",
    "\n",
    "india = populate_df(india)\n",
    "\n",
    "idx = pd.date_range('01-30-2020', '04-20-2020')\n",
    "\n",
    "india = india.reindex(idx)\n",
    "\n",
    "india = india.fillna(method='ffill')\n",
    "india = india.astype(int)"
   ]
  },
  {
   "cell_type": "markdown",
   "metadata": {},
   "source": [
    "### Save df"
   ]
  },
  {
   "cell_type": "code",
   "execution_count": 69,
   "metadata": {},
   "outputs": [],
   "source": [
    "india.to_csv('data/master_data/india/from_wiki.csv')"
   ]
  },
  {
   "cell_type": "markdown",
   "metadata": {},
   "source": [
    "### New Zealand Data"
   ]
  },
  {
   "cell_type": "code",
   "execution_count": 16,
   "metadata": {},
   "outputs": [],
   "source": [
    "url = 'https://en.wikipedia.org/wiki/2020_coronavirus_pandemic_in_New_Zealand'\n",
    "response = requests.get(url)\n",
    "soup = BeautifulSoup(response.content, 'lxml')\n",
    "feb = soup.find_all('tr', attrs={'id': 'mw-customcollapsible-feb'})\n",
    "march = soup.find_all('tr', attrs={'id': 'mw-customcollapsible-mar'})\n",
    "april = soup.find_all('tr', attrs={'id': 'mw-customcollapsible-apr'})\n",
    "april_2 = soup.find_all('tr', attrs={'id': 'mw-customcollapsible-apr-l15'})"
   ]
  },
  {
   "cell_type": "code",
   "execution_count": 41,
   "metadata": {},
   "outputs": [],
   "source": [
    "df_dict = dict()\n",
    "df_dict['date'] = list()\n",
    "df_dict['cases'] = list()\n",
    "df_dict['deaths'] = list()\n",
    "df_dict['recovered'] = list()\n",
    "\n",
    "populate_dict(feb, country='new_zealand')\n",
    "populate_dict(march, country='new_zealand')\n",
    "populate_dict(april, country='new_zealand')\n",
    "populate_dict(april_2, country='new_zealand')\n",
    "new_zealand = pd.DataFrame(df_dict)"
   ]
  },
  {
   "cell_type": "code",
   "execution_count": 10,
   "metadata": {},
   "outputs": [],
   "source": [
    "def preprocess(df, idx_range):\n",
    "    df = df[~(df['date'] == '⋮')]\n",
    "\n",
    "    df = populate_df(df)\n",
    "    \n",
    "    df=df[~df.index.duplicated(keep='last')]\n",
    "\n",
    "    idx = pd.date_range(idx_range[0], idx_range[1])\n",
    "\n",
    "    df = df.reindex(idx)\n",
    "\n",
    "    df = df.fillna(method='ffill')\n",
    "    df = df.fillna(method='bfill')\n",
    "    df = df.astype(int)\n",
    "    return df"
   ]
  },
  {
   "cell_type": "code",
   "execution_count": 42,
   "metadata": {},
   "outputs": [
    {
     "name": "stderr",
     "output_type": "stream",
     "text": [
      "C:\\Users\\sahil\\Anaconda3\\lib\\site-packages\\ipykernel_launcher.py:3: SettingWithCopyWarning: \n",
      "A value is trying to be set on a copy of a slice from a DataFrame.\n",
      "Try using .loc[row_indexer,col_indexer] = value instead\n",
      "\n",
      "See the caveats in the documentation: https://pandas.pydata.org/pandas-docs/stable/user_guide/indexing.html#returning-a-view-versus-a-copy\n",
      "  This is separate from the ipykernel package so we can avoid doing imports until\n",
      "C:\\Users\\sahil\\Anaconda3\\lib\\site-packages\\ipykernel_launcher.py:4: SettingWithCopyWarning: \n",
      "A value is trying to be set on a copy of a slice from a DataFrame.\n",
      "Try using .loc[row_indexer,col_indexer] = value instead\n",
      "\n",
      "See the caveats in the documentation: https://pandas.pydata.org/pandas-docs/stable/user_guide/indexing.html#returning-a-view-versus-a-copy\n",
      "  after removing the cwd from sys.path.\n",
      "C:\\Users\\sahil\\Anaconda3\\lib\\site-packages\\ipykernel_launcher.py:5: SettingWithCopyWarning: \n",
      "A value is trying to be set on a copy of a slice from a DataFrame.\n",
      "Try using .loc[row_indexer,col_indexer] = value instead\n",
      "\n",
      "See the caveats in the documentation: https://pandas.pydata.org/pandas-docs/stable/user_guide/indexing.html#returning-a-view-versus-a-copy\n",
      "  \"\"\"\n",
      "C:\\Users\\sahil\\Anaconda3\\lib\\site-packages\\ipykernel_launcher.py:6: SettingWithCopyWarning: \n",
      "A value is trying to be set on a copy of a slice from a DataFrame.\n",
      "Try using .loc[row_indexer,col_indexer] = value instead\n",
      "\n",
      "See the caveats in the documentation: https://pandas.pydata.org/pandas-docs/stable/user_guide/indexing.html#returning-a-view-versus-a-copy\n",
      "  \n",
      "C:\\Users\\sahil\\Anaconda3\\lib\\site-packages\\ipykernel_launcher.py:7: SettingWithCopyWarning: \n",
      "A value is trying to be set on a copy of a slice from a DataFrame.\n",
      "Try using .loc[row_indexer,col_indexer] = value instead\n",
      "\n",
      "See the caveats in the documentation: https://pandas.pydata.org/pandas-docs/stable/user_guide/indexing.html#returning-a-view-versus-a-copy\n",
      "  import sys\n"
     ]
    }
   ],
   "source": [
    "idx_range = ('02-28-2020', '04-22-2020')\n",
    "new_zealand = preprocess(new_zealand, idx_range)"
   ]
  },
  {
   "cell_type": "markdown",
   "metadata": {},
   "source": [
    "### save df"
   ]
  },
  {
   "cell_type": "code",
   "execution_count": 44,
   "metadata": {},
   "outputs": [],
   "source": [
    "new_zealand.to_csv('data/master_data/new_zealand/from_wiki.csv')"
   ]
  },
  {
   "cell_type": "markdown",
   "metadata": {},
   "source": [
    "## Israel"
   ]
  },
  {
   "cell_type": "code",
   "execution_count": 2,
   "metadata": {},
   "outputs": [],
   "source": [
    "url='https://en.wikipedia.org/wiki/2020_coronavirus_pandemic_in_Israel'\n",
    "response = requests.get(url)\n",
    "soup = BeautifulSoup(response.content, 'lxml')\n",
    "feb = soup.find_all('tr', attrs={'id': 'mw-customcollapsible-feb'})\n",
    "march = soup.find_all('tr', attrs={'id': 'mw-customcollapsible-mar'})\n",
    "april = soup.find_all('tr', attrs={'id': 'mw-customcollapsible-apr'})\n",
    "april_2 = soup.find_all('tr', attrs={'id': 'mw-customcollapsible-apr-l15'})"
   ]
  },
  {
   "cell_type": "code",
   "execution_count": 7,
   "metadata": {},
   "outputs": [],
   "source": [
    "df_dict = dict()\n",
    "df_dict['date'] = list()\n",
    "df_dict['cases'] = list()\n",
    "df_dict['deaths'] = list()\n",
    "df_dict['recovered'] = list()\n",
    "\n",
    "populate_dict(feb, country='new_zealand')\n",
    "populate_dict(march, country='new_zealand')\n",
    "populate_dict(april, country='new_zealand')\n",
    "populate_dict(april_2, country='new_zealand')\n",
    "israel = pd.DataFrame(df_dict)"
   ]
  },
  {
   "cell_type": "code",
   "execution_count": 11,
   "metadata": {},
   "outputs": [],
   "source": [
    "idx_range = ('2020-02-21', '2020-04-22')\n",
    "israel = preprocess(israel, idx_range)"
   ]
  },
  {
   "cell_type": "markdown",
   "metadata": {},
   "source": [
    "## save df"
   ]
  },
  {
   "cell_type": "code",
   "execution_count": 12,
   "metadata": {},
   "outputs": [],
   "source": [
    "israel.to_csv('data/master_data/israel/from_wiki.csv')"
   ]
  }
 ],
 "metadata": {
  "kernelspec": {
   "display_name": "Python 3",
   "language": "python",
   "name": "python3"
  },
  "language_info": {
   "codemirror_mode": {
    "name": "ipython",
    "version": 3
   },
   "file_extension": ".py",
   "mimetype": "text/x-python",
   "name": "python",
   "nbconvert_exporter": "python",
   "pygments_lexer": "ipython3",
   "version": "3.7.3"
  }
 },
 "nbformat": 4,
 "nbformat_minor": 4
}
